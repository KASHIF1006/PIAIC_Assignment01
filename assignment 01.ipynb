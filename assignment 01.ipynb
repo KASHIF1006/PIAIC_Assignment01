{
 "cells": [
  {
   "cell_type": "markdown",
   "metadata": {},
   "source": [
    "# 1. Calculate Area of a Circle\n",
    " Write a Python program which accepts the radius of a circle from the user and compute the area.\n"
   ]
  },
  {
   "cell_type": "code",
   "execution_count": 1,
   "metadata": {},
   "outputs": [
    {
     "name": "stdout",
     "output_type": "stream",
     "text": [
      " 1). Enter Radius : 0.5\n",
      " - Area of circle with radius 0.5 is : 0.7855\n"
     ]
    }
   ],
   "source": [
    "#Declaring and Initializing Variables : \n",
    "phy=3.142\n",
    "\n",
    "#Taking Input from user : \n",
    "aRad = float(input(\" 1). Enter Radius : \"))\n",
    "\n",
    "#Multiplying Radius : \n",
    "aRad02 = aRad * aRad\n",
    "\n",
    "#Calculating Area of circle : \n",
    "area = phy * aRad02\n",
    "\n",
    "#Assigning it in : \n",
    "result = \"\"\" - Area of circle with radius {} is : {}\"\"\" \n",
    "\n",
    "#Printing Area of Circle : \n",
    "print(result.format(aRad, area))"
   ]
  },
  {
   "cell_type": "markdown",
   "metadata": {},
   "source": [
    "#    2. Check Number either positive, negative or zero\n",
    "Write a Python program to check if a number is positive, negative or zero"
   ]
  },
  {
   "cell_type": "code",
   "execution_count": 2,
   "metadata": {},
   "outputs": [
    {
     "name": "stdout",
     "output_type": "stream",
     "text": [
      " 1). Enter Number : -1\n",
      " - Negative Number Entered.\n"
     ]
    }
   ],
   "source": [
    "#Taking Input from user : \n",
    "aNum = int(input(\" 1). Enter Number : \"))\n",
    "\n",
    "#Checking the Number is positive, negative or zero : \n",
    "if aNum<0:\n",
    "    print(\" - Negative Number Entered.\")\n",
    "\n",
    "elif aNum>0 :\n",
    "    print(\"  - Postive Number Entered.\")\n",
    "\n",
    "else :\n",
    "    print(\" - Zero Entered.\")"
   ]
  },
  {
   "cell_type": "code",
   "execution_count": 3,
   "metadata": {},
   "outputs": [
    {
     "name": "stdout",
     "output_type": "stream",
     "text": [
      " 1). Enter Number : 3\n",
      "  - Postive Number Entered.\n"
     ]
    }
   ],
   "source": [
    "#Taking Input from user : \n",
    "aNum = int(input(\" 1). Enter Number : \"))\n",
    "\n",
    "#Checking the Number is positive, negative or zero : \n",
    "if aNum<0:\n",
    "    print(\" - Negative Number Entered.\")\n",
    "\n",
    "elif aNum>0 :\n",
    "    print(\"  - Postive Number Entered.\")\n",
    "\n",
    "else :\n",
    "    print(\" - Zero Entered.\")"
   ]
  },
  {
   "cell_type": "code",
   "execution_count": 4,
   "metadata": {},
   "outputs": [
    {
     "name": "stdout",
     "output_type": "stream",
     "text": [
      " 1). Enter Number : 0\n",
      " - Zero Entered.\n"
     ]
    }
   ],
   "source": [
    "#Taking Input from user : \n",
    "aNum = int(input(\" 1). Enter Number : \"))\n",
    "\n",
    "#Checking the Number is positive, negative or zero : \n",
    "if aNum<0:\n",
    "    print(\" - Negative Number Entered.\")\n",
    "\n",
    "elif aNum>0 :\n",
    "    print(\"  - Postive Number Entered.\")\n",
    "\n",
    "else :\n",
    "    print(\" - Zero Entered.\")"
   ]
  },
  {
   "cell_type": "markdown",
   "metadata": {},
   "source": [
    "#     3. Divisibility Check of two numbers\n",
    "Write a Python program to check whether a number is completely divisible by another number. Accept two integer values form the user\n"
   ]
  },
  {
   "cell_type": "code",
   "execution_count": 5,
   "metadata": {},
   "outputs": [
    {
     "name": "stdout",
     "output_type": "stream",
     "text": [
      " 1). Enter Numerator : 4\n",
      " 2). Enter Denominator : 2\n",
      "\n",
      " - 4 is divisible by 2.\n"
     ]
    }
   ],
   "source": [
    "#Taking input from user : \n",
    "\n",
    "aNum01 = int(input(\" 1). Enter Numerator : \"))\n",
    "\n",
    "aNum02 = int(input(\" 2). Enter Denominator : \"))\n",
    "\n",
    "#Checking the numerator is divisible by Denominator : \n",
    "if aNum01%aNum02==0:\n",
    "    print(\"\\n - {} is divisible by {}.\".format(aNum01,aNum02))\n",
    "\n",
    "else :\n",
    "    print(\"\\n - {} is not divisible by {}.\".format(aNum01,aNum02))"
   ]
  },
  {
   "cell_type": "code",
   "execution_count": 6,
   "metadata": {},
   "outputs": [
    {
     "name": "stdout",
     "output_type": "stream",
     "text": [
      " 1). Enter Numerator : 7\n",
      " 2). Enter Denominator : 2\n",
      "\n",
      " - 7 is not divisible by 2.\n"
     ]
    }
   ],
   "source": [
    "#Taking input from user : \n",
    "\n",
    "aNum01 = int(input(\" 1). Enter Numerator : \"))\n",
    "\n",
    "aNum02 = int(input(\" 2). Enter Denominator : \"))\n",
    "\n",
    "#Checking the numerator is divisible by Denominator : \n",
    "if aNum01%aNum02==0:\n",
    "    print(\"\\n - {} is divisible by {}.\".format(aNum01,aNum02))\n",
    "\n",
    "else :\n",
    "    print(\"\\n - {} is not divisible by {}.\".format(aNum01,aNum02))"
   ]
  },
  {
   "cell_type": "markdown",
   "metadata": {},
   "source": [
    "#    4. Calculate Volume of a sphere\n",
    "Write a Python program to get the volume of a sphere, please take the radius as input from user"
   ]
  },
  {
   "cell_type": "code",
   "execution_count": 8,
   "metadata": {},
   "outputs": [
    {
     "name": "stdout",
     "output_type": "stream",
     "text": [
      " 1). Enter Radius of Sphere : 1\n",
      " - Volume of the Sphere with Radius 1 is :  4.19\n"
     ]
    }
   ],
   "source": [
    "#Declaring and initializing variable : \n",
    "phy = 3.142\n",
    "\n",
    "#Taking Input from user : \n",
    "aRad = int(input(\" 1). Enter Radius of Sphere : \"))\n",
    "\n",
    "#Mulltiplying radius three times accoding to formula : \n",
    "aRad02 = aRad * aRad * aRad \n",
    "\n",
    "#Calculating Area of Sphere : \n",
    "aSphere = (4/3)*phy*aRad02\n",
    "\n",
    "print(\" - Volume of the Sphere with Radius {} is : {: .2f}\".format(aRad, aSphere))"
   ]
  },
  {
   "cell_type": "markdown",
   "metadata": {},
   "source": [
    "#    5. Copy string n times\n",
    "Write a Python program to get a string which is n (non-negative integer) copies of a given string. \n"
   ]
  },
  {
   "cell_type": "code",
   "execution_count": 10,
   "metadata": {},
   "outputs": [
    {
     "name": "stdout",
     "output_type": "stream",
     "text": [
      " 1). Enter String : Hi\n",
      " 2). How many copies of string you need : 4\n",
      " - 4 Copies of Hi are : HiHiHiHi\n"
     ]
    }
   ],
   "source": [
    "#Declaring variable which can stored a string :\n",
    "strVar = str(input(\" 1). Enter String : \"))\n",
    "\n",
    "#Declaring variable to make copies of of a string : \n",
    "intVar = int(input(\" 2). How many copies of string you need : \"))\n",
    "\n",
    "copies = (str(strVar)*int(intVar))\n",
    "\n",
    "print(\" - {} Copies of {} are : {}\".format(intVar, strVar, copies))"
   ]
  },
  {
   "cell_type": "markdown",
   "metadata": {},
   "source": [
    "#    6. Check if number is Even or Odd\n",
    "Write a Python program to find whether a given number (accept from the user) is even or odd, print out an appropriate message to the user"
   ]
  },
  {
   "cell_type": "code",
   "execution_count": 11,
   "metadata": {},
   "outputs": [
    {
     "name": "stdout",
     "output_type": "stream",
     "text": [
      " 1). Enter Number : 4\n",
      " - 4 is Even.\n"
     ]
    }
   ],
   "source": [
    "#Taking Input From User : \n",
    "aNum = int(input(\" 1). Enter Number : \"))\n",
    "\n",
    "if aNum%2==0:\n",
    "    print(\" - {} is Even.\".format(aNum))\n",
    "\n",
    "else :\n",
    "    print(\" - {} is odd.\".format(aNum))"
   ]
  },
  {
   "cell_type": "code",
   "execution_count": 12,
   "metadata": {},
   "outputs": [
    {
     "name": "stdout",
     "output_type": "stream",
     "text": [
      " 1). Enter Number : 9\n",
      " - 9 is odd.\n"
     ]
    }
   ],
   "source": [
    "#Takiing Input From User : \n",
    "aNum = int(input(\" 1). Enter Number : \"))\n",
    "\n",
    "if aNum%2==0:\n",
    "    print(\" - {} is Even.\".format(aNum))\n",
    "\n",
    "else :\n",
    "    print(\" - {} is odd.\".format(aNum))"
   ]
  },
  {
   "cell_type": "markdown",
   "metadata": {},
   "source": [
    "#    7. Vowel Tester\n",
    "Write a Python program to test whether a passed letter is a vowel or not"
   ]
  },
  {
   "cell_type": "code",
   "execution_count": 13,
   "metadata": {},
   "outputs": [
    {
     "name": "stdout",
     "output_type": "stream",
     "text": [
      " 1) . Enter a Character : A\n",
      " - A is Vowel.\n"
     ]
    }
   ],
   "source": [
    "#Taking Input from User : \n",
    "aVar = input(\" 1) . Enter a Character : \")\n",
    "\n",
    "if aVar == 'a' or aVar == 'e' or aVar == 'i' or aVar == 'o' or aVar == 'u' or aVar == 'A' or aVar == 'E' or aVar == 'I' or aVar == 'O' or aVar =='U' :\n",
    "    print(\" - {} is Vowel.\".format(aVar))\n",
    "\n",
    "else :\n",
    "    print(\" - {} is not Vowel.\".format(aVar))"
   ]
  },
  {
   "cell_type": "code",
   "execution_count": 14,
   "metadata": {},
   "outputs": [
    {
     "name": "stdout",
     "output_type": "stream",
     "text": [
      " 1) . Enter a Character : e\n",
      " - e is Vowel.\n"
     ]
    }
   ],
   "source": [
    "#Taking Input from User : \n",
    "aVar = input(\" 1) . Enter a Character : \")\n",
    "\n",
    "if aVar == 'a' or aVar == 'e' or aVar == 'i' or aVar == 'o' or aVar == 'u' or aVar == 'A' or aVar == 'E' or aVar == 'I' or aVar == 'O' or aVar =='U' :\n",
    "    print(\" - {} is Vowel.\".format(aVar))\n",
    "\n",
    "else :\n",
    "    print(\" - {} is not Vowel.\".format(aVar))"
   ]
  },
  {
   "cell_type": "code",
   "execution_count": 15,
   "metadata": {},
   "outputs": [
    {
     "name": "stdout",
     "output_type": "stream",
     "text": [
      " 1) . Enter a Character : N\n",
      " - N is not Vowel.\n"
     ]
    }
   ],
   "source": [
    "#Taking Input from User : \n",
    "aVar = input(\" 1) . Enter a Character : \")\n",
    "\n",
    "if aVar == 'a' or aVar == 'e' or aVar == 'i' or aVar == 'o' or aVar == 'u' or aVar == 'A' or aVar == 'E' or aVar == 'I' or aVar == 'O' or aVar =='U' :\n",
    "    print(\" - {} is Vowel.\".format(aVar))\n",
    "\n",
    "else :\n",
    "    print(\" - {} is not Vowel.\".format(aVar))"
   ]
  },
  {
   "cell_type": "markdown",
   "metadata": {},
   "source": [
    "#    8. Triangle area\n",
    "Write a Python program that will accept the base and height of a triangle and compute the area"
   ]
  },
  {
   "cell_type": "code",
   "execution_count": 25,
   "metadata": {},
   "outputs": [
    {
     "name": "stdout",
     "output_type": "stream",
     "text": [
      " 1). Enter Magnitude of Triangle Base : 4\n",
      " 2). ENter Magnitude of Triangle Height : 4\n",
      " - Area of Triangle with Height 4 and Base 4 is : 8\n"
     ]
    }
   ],
   "source": [
    "#Taking Input From User :\n",
    "\n",
    "#Asking for Triangle Base :  \n",
    "triBase = float(input(\" 1). Enter Magnitude of Triangle Base : \"))\n",
    "\n",
    "#Asking for Triangle Height : \n",
    "triHeight = float(input(\" 2). ENter Magnitude of Triangle Height : \"))\n",
    "\n",
    "#Calculating Area of Triangle : \n",
    "aTriangle = ((triHeight*triBase)/2)\n",
    "\n",
    "#Printing the Area of Triangle :    \n",
    "print(\" - Area of Triangle with Height \" +str(int(triHeight)) +\" and Base \" +str(int(triBase)) + \" is : \" +str(int(aTriangle)))"
   ]
  },
  {
   "cell_type": "markdown",
   "metadata": {},
   "source": [
    "#    9. Calculate Interest\n",
    "Write a Python program to compute the future value of a specified principal amount, rate of interest, and a number of years"
   ]
  },
  {
   "cell_type": "code",
   "execution_count": 18,
   "metadata": {},
   "outputs": [
    {
     "name": "stdout",
     "output_type": "stream",
     "text": [
      " 1). Please Enter Principal Amount : 10000\n",
      " 2). Please Enter the rate of interest in % : 0.1\n",
      " 3). Enter number of years for investment : 5\n",
      " - After 5 years your principal amount 10000 over an interest rate of 0.1% will be 16105.10\n"
     ]
    }
   ],
   "source": [
    "#Taking Input From User : \n",
    "\n",
    "#Asking for Principal Amount :  \n",
    "priAmount = int(input(\" 1). Please Enter Principal Amount : \"))\n",
    "\n",
    "#Asking for Rate of interest :\n",
    "rateInterest = float(input(\" 2). Please Enter the rate of interest in % : \"))\n",
    "\n",
    "#Asking for the number of years for investment : \n",
    "investYears = int(input(\" 3). Enter number of years for investment : \"))\n",
    "\n",
    "#Formula to calculate future value : \n",
    "futureValue  = (priAmount*((1+(rateInterest))**investYears))\n",
    "\n",
    "#Printing the Future Value:\n",
    "print(\" - After \"+str(investYears)+\" years your principal amount \"+str(priAmount)+\" over an interest rate of \"+str(rateInterest)+\"% will be {:.2f}\".format(futureValue))  "
   ]
  },
  {
   "cell_type": "markdown",
   "metadata": {},
   "source": [
    "#     10. Euclidean distance\n",
    "Write a Python program to compute the distance between the points (x1, y1) and (x2, y2)."
   ]
  },
  {
   "cell_type": "code",
   "execution_count": 20,
   "metadata": {},
   "outputs": [
    {
     "name": "stdout",
     "output_type": "stream",
     "text": [
      " 1). Enter co-ordinate of x1 : 2\n",
      " 2). Enter co-ordiantes of x2 : 4\n",
      " 3). Enter co-ordinates of y1 : 4\n",
      " 4). Enter co-ordinates of y2 : 4\n",
      " - Distance between points (2,4) and (4,4) is : 2\n"
     ]
    }
   ],
   "source": [
    "#Using math Library for using square root basically :\n",
    "import math\n",
    "\n",
    "#Taking Input from User : \n",
    "\n",
    "#Asking for co-ordinates for x : \n",
    "xOne = int(input(\" 1). Enter co-ordinate of x1 : \"))\n",
    "\n",
    "xTwo = int(input(\" 2). Enter co-ordiantes of x2 : \"))\n",
    "\n",
    "#Asking for co-ordinates for y : \n",
    "yOne = int(input(\" 3). Enter co-ordinates of y1 : \"))\n",
    "\n",
    "yTwo = int(input(\" 4). Enter co-ordinates of y2 : \"))\n",
    "\n",
    "#Calculating points while using formula Euclidean plane : \n",
    "distance = int(math.sqrt(((xOne-yOne)*(xOne-yOne)) + ((xTwo-yTwo)*(xTwo-yTwo))))\n",
    "\n",
    "#Printing the Distance :\n",
    "print(\" - Distance between points (\"+str(xOne)+\",\"+str(yOne)+\") and (\"+str(xTwo)+\",\"+str(yTwo)+\") is : \"+str(distance))"
   ]
  },
  {
   "cell_type": "markdown",
   "metadata": {},
   "source": [
    "#    11. Feet to Centimeter Converter\n",
    "Write a Python program to convert height in feet to centimetres."
   ]
  },
  {
   "cell_type": "code",
   "execution_count": 23,
   "metadata": {},
   "outputs": [
    {
     "name": "stdout",
     "output_type": "stream",
     "text": [
      " 1). Enter Height in Feet : 5\n",
      "There are 152.4 Cm in 5 ft\n"
     ]
    }
   ],
   "source": [
    "#Taking input from user : \n",
    "feet = float(input(\" 1). Enter Height in Feet : \"))\n",
    "\n",
    "#CONVERTING feet into centimeter : \n",
    "centi = feet*30.48\n",
    "\n",
    "print(\"There are \"+str(centi)+\" Cm in \"+str(int(feet))+\" ft\")"
   ]
  },
  {
   "cell_type": "markdown",
   "metadata": {},
   "source": [
    "#    12. BMI Calculator\n",
    "Write a Python program to calculate body mass index"
   ]
  },
  {
   "cell_type": "code",
   "execution_count": 26,
   "metadata": {},
   "outputs": [
    {
     "name": "stdout",
     "output_type": "stream",
     "text": [
      " 1). Enter Height in Cm : 180\n",
      " 2). Enter Weight in Kg : 75\n",
      " - Your BMI is : 23.15\n"
     ]
    }
   ],
   "source": [
    "#Taking Input from User: \n",
    "\n",
    "#Asking for Height in centimeter :\n",
    "cmHeight = float(input(\" 1). Enter Height in Cm : \"))\n",
    "\n",
    "#Asking for Weight in kilogram :\n",
    "kgWeight = float(input(\" 2). Enter Weight in Kg : \"))\n",
    "\n",
    "#Calculation according to formula :\n",
    "bodyMass = ((kgWeight/(cmHeight*cmHeight))/0.0001)\n",
    "\n",
    "print(\" - Your BMI is : {:.2f}\".format(bodyMass))"
   ]
  },
  {
   "cell_type": "markdown",
   "metadata": {},
   "source": [
    "#    13. Sum of n Positive Integers\n",
    "Write a python program to sum of the first n positive integers"
   ]
  },
  {
   "cell_type": "code",
   "execution_count": 27,
   "metadata": {},
   "outputs": [
    {
     "name": "stdout",
     "output_type": "stream",
     "text": [
      " 1). Enter value : 5\n",
      " - Sum of n Positive integers till 5 is : 15\n"
     ]
    }
   ],
   "source": [
    "#Taking input from User : \n",
    "num = int(input(\" 1). Enter value : \"))\n",
    "\n",
    "#Calculating sum of n positive number :\n",
    "num02 = int((num*(num+1)/2))  \n",
    "\n",
    "#Printing Sum : \n",
    "print(\" - Sum of n Positive integers till \"+str(num)+\" is : \"+str(num02))"
   ]
  },
  {
   "cell_type": "markdown",
   "metadata": {},
   "source": [
    "#    14. Digits Sum of a Number\n",
    "Write a Python program to calculate the sum of the digits in an integer"
   ]
  },
  {
   "cell_type": "code",
   "execution_count": 1,
   "metadata": {},
   "outputs": [
    {
     "name": "stdout",
     "output_type": "stream",
     "text": [
      "Enter Number: 15\n",
      "Sum of 1 + 5 is 6\n"
     ]
    }
   ],
   "source": [
    "#Taking input from user :\n",
    "num = int(input(\" 1). Enter Number: \"))\n",
    "\n",
    "#Storing the int value of num variable in a duplicate variable : \n",
    "dup = num\n",
    "\n",
    "#Initializing Sum variable to zero : \n",
    "sum = 0\n",
    "\n",
    "numbers = []\n",
    "\n",
    "while number > 0:\n",
    "    rem = number % 10\n",
    "    numbers.append(rem)\n",
    "    sum = sum + rem\n",
    "    number = number // 10\n",
    "\n",
    "print(\"Sum of \", end=\"\")\n",
    "\n",
    "for j in range(len(numbers) - 1, -1, -1):\n",
    "    if (j == 0):\n",
    "        print(f\"{numbers[j]}\", end=\"\")\n",
    "    else:\n",
    "        print(f\"{numbers[j]} + \", end=\"\")\n",
    "\n",
    "print(f\" is {sum}\")"
   ]
  },
  {
   "cell_type": "code",
   "execution_count": 2,
   "metadata": {},
   "outputs": [
    {
     "name": "stdout",
     "output_type": "stream",
     "text": [
      "Enter Number: 1234\n",
      "Sum of 1 + 2 + 3 + 4 is 10\n"
     ]
    }
   ],
   "source": [
    "number = int(input(\"Enter Number: \"))\n",
    "temp= number\n",
    "sum = 0\n",
    "numbers = []\n",
    "while number > 0:\n",
    "    rem = number % 10\n",
    "    numbers.append(rem)\n",
    "    sum = sum + rem\n",
    "    number = number // 10\n",
    "\n",
    "print(\"Sum of \", end=\"\")\n",
    "\n",
    "for j in range(len(numbers) - 1, -1, -1):\n",
    "    if (j == 0):\n",
    "        print(f\"{numbers[j]}\", end=\"\")\n",
    "    else:\n",
    "        print(f\"{numbers[j]} + \", end=\"\")\n",
    "\n",
    "print(f\" is {sum}\")"
   ]
  }
 ],
 "metadata": {
  "kernelspec": {
   "display_name": "Python 3",
   "language": "python",
   "name": "python3"
  },
  "language_info": {
   "codemirror_mode": {
    "name": "ipython",
    "version": 3
   },
   "file_extension": ".py",
   "mimetype": "text/x-python",
   "name": "python",
   "nbconvert_exporter": "python",
   "pygments_lexer": "ipython3",
   "version": "3.7.3"
  }
 },
 "nbformat": 4,
 "nbformat_minor": 2
}
